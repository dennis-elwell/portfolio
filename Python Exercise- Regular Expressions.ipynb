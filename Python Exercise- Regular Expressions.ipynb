{
 "cells": [
  {
   "cell_type": "markdown",
   "metadata": {},
   "source": [
    "### Find all phone numbers from a webpage\n",
    "Dennis Elwell <br>\n",
    "Data: Care, Feeding and Cleaning class (Fall 2019)"
   ]
  },
  {
   "cell_type": "markdown",
   "metadata": {},
   "source": [
    "In this exercise, I created a code that allowed me to scrape phone numbers directly from a webpage directory of Temple professors (https://www.fox.temple.edu/posts/people-category/cms-faculty/). To do that, I used the _requests_ Python library and a regular expression."
   ]
  },
  {
   "cell_type": "code",
   "execution_count": 1,
   "metadata": {},
   "outputs": [
    {
     "name": "stderr",
     "output_type": "stream",
     "text": [
      "C:\\Users\\Dennis\\Anaconda3\\lib\\site-packages\\urllib3\\connectionpool.py:847: InsecureRequestWarning: Unverified HTTPS request is being made. Adding certificate verification is strongly advised. See: https://urllib3.readthedocs.io/en/latest/advanced-usage.html#ssl-warnings\n",
      "  InsecureRequestWarning)\n"
     ]
    },
    {
     "name": "stdout",
     "output_type": "stream",
     "text": [
      "215.204.6891\n",
      "215.204.5084\n",
      "215.204.0489\n",
      "215-204-3750\n",
      "215.204.1678\n",
      "215.204.4130\n",
      "215.204.5675\n",
      "215.204.8148\n",
      "215.204.4145\n",
      "215.204.4079\n",
      "215.204.8152\n",
      "215.204.5220\n",
      "215.204.4896\n",
      "215.204.3390\n",
      "215-204-7142\n",
      "215.204.6477\n",
      "215.204.7676\n",
      "215.204.4234\n",
      "215-204-1836\n",
      "215.204.3919\n",
      "215.204.5574\n",
      "215.204.3295\n",
      "215.204.8155\n",
      "215.204.8435\n",
      "215.204.4233\n",
      "215.204.4227\n",
      "404-520-0489\n",
      "215.204.1917\n",
      "215.204.8468\n",
      "215.204.5070\n",
      "215.680.2904\n",
      "215.204.3927\n",
      "215.204.5088\n",
      "215.204.2029\n",
      "215-204-4275\n",
      "215.204.8892\n",
      "215.204.5708\n",
      "215.204.1933\n",
      "215.204.8150\n",
      "215.204.3778\n",
      "215.204.6906\n",
      "215.204.8139\n"
     ]
    }
   ],
   "source": [
    "import re\n",
    "import requests\n",
    "\n",
    "# fetch html\n",
    "url = 'https://www.fox.temple.edu/posts/people-category/cms-faculty/'\n",
    "response = requests.get(url, verify=False)\n",
    "html = response.text\n",
    "\n",
    "# use regular expression to find all phone numbers\n",
    "phone_numbers = set(re.findall(r'[0-9]{3}[.-][0-9]{3}[.-][0-9]{4}', html))\n",
    "for phone_number in phone_numbers:\n",
    "    print(phone_number)"
   ]
  }
 ],
 "metadata": {
  "kernelspec": {
   "display_name": "Python 3",
   "language": "python",
   "name": "python3"
  },
  "language_info": {
   "codemirror_mode": {
    "name": "ipython",
    "version": 3
   },
   "file_extension": ".py",
   "mimetype": "text/x-python",
   "name": "python",
   "nbconvert_exporter": "python",
   "pygments_lexer": "ipython3",
   "version": "3.7.3"
  }
 },
 "nbformat": 4,
 "nbformat_minor": 2
}
