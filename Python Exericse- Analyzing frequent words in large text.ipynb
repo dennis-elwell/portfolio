{
 "cells": [
  {
   "cell_type": "markdown",
   "metadata": {},
   "source": [
    "## Find most frequent words in a text\n",
    "Dennis Elwell <br>\n",
    "Data: Care, Feeding and Cleaning class (Fall 2019)"
   ]
  },
  {
   "cell_type": "markdown",
   "metadata": {},
   "source": [
    "In this exercise, I created code that found the most frequent words in a large text. The text is a Washington Post article. "
   ]
  },
  {
   "cell_type": "markdown",
   "metadata": {},
   "source": [
    "#### 1) Run the next cell to create `washington_post` variable."
   ]
  },
  {
   "cell_type": "code",
   "execution_count": 1,
   "metadata": {},
   "outputs": [],
   "source": [
    "washington_post = \"\"\"MOSCOW — Russian officials vehemently defended the country’s airstrikes in Syria on Thursday as blows to Islamic State militants even as evidence mounted suggesting that U.S.-backed rebels and others were facing the brunt of Moscow’s attacks.\n",
    "And while Russian officials and diplomats rallied behind President Vladimir Putin, the Kremlin’s stance appeared further clouded by acknowledgments that the missions have already extended beyond solely the Islamic State.\n",
    "In Paris, the Russian ambassador to France, Alexander Orlov, said the Russian attacks also targeted an al-Qaeda-linked group, Jabhat al-Nusra, or al-Nusra Front.\n",
    "Syria’s ambassador to Russia, Riad Haddad, echoed that the joint hit list for Russia and the Syrian government included Jabhat al-Nusra, which is believed to have some coordination with the Islamic State but is still seen mostly as a rival.\n",
    "“We are confronting armed terrorist groups in Syria, regardless of how they identify themselves, whether it is Jabhat al-Nusra, the ISIL or others,” he said, using one of the acronyms for the Islamic State.\n",
    "Graphic Did the Russians really strike the Islamic State? VIEW GRAPHIC \n",
    "“They all are pursuing ISIL ends,” he added, according to the Interfax news agency.\n",
    "The ambassadors did not specifically mention any U.S.- and Western-backed rebel groups.\n",
    "But the comment was certain to deepen suspicions by Washington and allies that Putin’s short-term aim is to give more breathing space to Syria’s embattled President Bashar al-Assad, whose government is strongly supported by Moscow.\n",
    "Syrian activists, meanwhile, ramped up their own claims that Moscow was hitting groups seeking to bring down Assad, who has managed to hang on during more than four years of civil war.\n",
    "Russia’s expanding military intervention in Syria added urgency to separate efforts by Russia and U.S. officials to coordinate strategies against the Islamic State and avoid potential airspace missteps between the two powers — so-called “deconfliction” talks. The Pentagon said the discussions will begin Thursday.\n",
    "[Washington weighs next move]\n",
    "One monitoring group, the Britain-based Syrian Observatory for Human Rights, said Russian airstrikes again struck strongholds of an American-backed rebel group, Tajamu Alezzah, in central Hama province.\n",
    "Ground level: On the scene of controversial Russian airstrikes in Syria\t\n",
    "View Photos\tThe actions, quickly criticized by Washington, add an unpredictable element to a multilayered war.\n",
    "The observatory also reported that airstrikes hit the northwestern city Jisr al-Shughour, which is in the hands of rebel groups including al-Nusra, after battles last month to drive back Assad’s forces.\n",
    "Among the locations hit was a site near Kafr Nabl, the northern Syrian town whose weekly protests against the government, often featuring pithy slogans in English, won it renown as a symbol of what began as a peaceful protest movement against the Assad regime. The local council receives U.S. assistance, and the rebel unit there has received support under a covert CIA program aimed at bolstering moderate rebels.\n",
    "Raed Fares, one of the leaders of the protest movement in Kafr Nabl, said warplanes struck a Free Syrian Army checkpoint guarding Roman ruins on the outskirts of the town. He said the explosion was bigger than anything local residents had seen in three years of airstrikes conducted by Syrian warplanes.\n",
    "“It made a fire six kilometers wide,” he told The Washington Post.\n",
    "Other sites hit on the second day of Russian bombing included locations in the province of Hama. The targets suggested the main intention of the strikes was to shore up government control over a corridor of territory linking the capital, Damascus, to the Assad family’s coastal heartland, where the Russians are operating out of an expanded air base.\n",
    "Syrian rebels, some of them U.S.-backed, had been making slow but steady gains in the area, considered one of the government’s biggest vulnerabilities. There has been no Islamic State presence there since January 2014, when moderate rebels rose up against the extremists and forced them to retreat to eastern Syria.\n",
    "[Kerry warns of ‘grave concerns’ about Russia’s intent]\n",
    "In Washington, Sen. John McCain (R-Ariz.) told CNN he could “absolutely confirm” that airstrikes hit Western-backed groups such as the Free Syrian Army and other factions “armed and trained by the CIA.”\n",
    "“We have communications with people there,” said McCain, chairman of the Senate Armed Services Committee.\n",
    "The accounts could not be independently assessed, but the main focus of the Russian attacks appeared to be in areas not known to have strong Islamic State footholds.\n",
    "In Moscow, the reply was blunt.\n",
    "“Total rubbish,” Gennady Zyuganov, a member of parliament and leader of Russia’s Communist Party, said of the U.S. accusations.\n",
    "In televised remarks Thursday, Putin called accusations that Russian airstrikes had killed civilians in Syria “information attacks.”\n",
    "He also addressed concerns about an accidental military clash between Russian and U.S.-led coalition forces, saying that his intelligence and military agencies were “establishing contacts” with counterparts in the United States.\n",
    "“This work is ongoing, and I hope that it will conclude with the creation of a regularly acting mechanism,” he said.\n",
    "A spokesman for Russia’s Defense Ministry, Igor Konashenkov, said Thursday that warplanes hit a dozen Islamic State sites in the past 24 hours, destroying targets including a command center and two arms depots.\n",
    "[Russia’s strategy in Syria could be a work in progress]\n",
    "The United States and Russia agree on the need to fight the Islamic State but not about what to do with the Syrian president. The Syrian civil war, which grew out of an uprising against Assad, has killed more than 250,000 people since March 2011 and sent millions of refugees fleeing to countries in the Middle East and Europe.\n",
    "Accusing Russia of “pouring gasoline on the fire,” Defense Secretary Ashton B. Carter vowed that U.S. pilots would continue their year-long bombing campaign against the Islamic State in Syria, despite Moscow’s warning that American planes should stay away from its operations.\n",
    "“I think what they’re doing is going to backfire and is counterproductive,” Carter said on Wednesday.\n",
    "Yet Russia’s military flexing in Syria brought quick overtures from neighboring Iraq, where the Islamic State also holds significant territory but the government is within Washington’s fold.\n",
    "Iraq’s prime minister, Haider al-Abadi, told France 24 that he “would welcome” Russia joining the U.S.-led airstrikes against Islamic State targets, but there have been no specific discussions.\n",
    "Joining the protests against the Russian airstrikes was Saudi Arabia, a leading foe of Assad and one of Washington’s top Middle East allies.\n",
    "At the United Nations late Wednesday, the Saudi ambassador, Abdallah al-Mouallimi, demanded that the Russian air campaign “stop immediately” and accused Moscow of carrying out attacks in areas outside the control of the Islamic State.\n",
    "In Iran, Assad’s main regional backer, Foreign Ministry spokeswoman Marzieh Afkham called Russia’s military role a step “toward resolving the current crisis” in Syria.\n",
    "Sly reported from Beirut, and Murphy from Washington. Daniela Deane in London, William Branigin in Washington and Loveday Morris in Baghdad contributed to this report.\n",
    "\"\"\""
   ]
  },
  {
   "cell_type": "markdown",
   "metadata": {},
   "source": [
    "#### 2) Write a function that for a given `text` and `word` would calculate the number of times that `word` appears in the `text`."
   ]
  },
  {
   "cell_type": "code",
   "execution_count": 2,
   "metadata": {},
   "outputs": [],
   "source": [
    "def frequency_of_word_in_text(text,word):\n",
    "    counter = 0\n",
    "    for w in text.lower().split():\n",
    "        if w == word.lower():\n",
    "            counter+=1\n",
    "    return counter\n"
   ]
  },
  {
   "cell_type": "code",
   "execution_count": 4,
   "metadata": {},
   "outputs": [
    {
     "name": "stdout",
     "output_type": "stream",
     "text": [
      "5\n",
      "6\n",
      "1\n"
     ]
    }
   ],
   "source": [
    "# TEST YOUR CODE ON washington_post\n",
    "print(frequency_of_word_in_text(washington_post, 'russia'))\n",
    "print(frequency_of_word_in_text(washington_post, 'syria'))\n",
    "print(frequency_of_word_in_text(washington_post, 'france'))"
   ]
  },
  {
   "cell_type": "markdown",
   "metadata": {},
   "source": [
    "#### 3) Write a function to identify the most frequent word(s) in the `text`."
   ]
  },
  {
   "cell_type": "code",
   "execution_count": 5,
   "metadata": {},
   "outputs": [],
   "source": [
    "def most_frequent_words(text):\n",
    "    word_dict = {}\n",
    "    text_set = set(text.lower().split())\n",
    "    \n",
    "    for each_word in text_set:\n",
    "        word_dict[each_word] = frequency_of_word_in_text(text,each_word)\n",
    "        \n",
    "    highest_freq = 0\n",
    "    second_highest_freq = 0\n",
    "    third_highest_freq = 0\n",
    "    \n",
    "    highest_word = None\n",
    "    second_highest_word = None\n",
    "    third_highest_word = None\n",
    "    \n",
    "    for k,v in word_dict.items():\n",
    "        if v > highest_freq:\n",
    "            third_highest_freq = second_highest_freq\n",
    "            third_highest_word = second_highest_word\n",
    "            second_highest_freq = highest_freq\n",
    "            second_highest_word = highest_word\n",
    "            highest_freq = v\n",
    "            highest_word = k\n",
    "        elif v > second_highest_freq:\n",
    "            third_highest_freq = second_highest_freq\n",
    "            third_highest_word = second_highest_word\n",
    "            second_highest_freq = v\n",
    "            second_highest_word = k\n",
    "        elif v> third_highest_freq:\n",
    "            third_highest_freq = v\n",
    "            third_highest_word = k\n",
    "            \n",
    "    return {highest_word:highest_freq,second_highest_word:second_highest_freq,third_highest_word:third_highest_freq}"
   ]
  },
  {
   "cell_type": "code",
   "execution_count": 6,
   "metadata": {},
   "outputs": [
    {
     "name": "stdout",
     "output_type": "stream",
     "text": [
      "{'the': 81, 'of': 33, 'in': 30}\n"
     ]
    }
   ],
   "source": [
    "# TEST YOUR CODE ON washington_post\n",
    "print(most_frequent_words(washington_post))"
   ]
  },
  {
   "cell_type": "markdown",
   "metadata": {
    "collapsed": true
   },
   "source": [
    "#### 4) Print the most frequent words in each of the paragraphs of `washington_post`. "
   ]
  },
  {
   "cell_type": "code",
   "execution_count": 7,
   "metadata": {},
   "outputs": [],
   "source": [
    "def most_freq_words_by_paragraph(text):\n",
    "    paragraph_list = text.split('\\n')\n",
    "    most_freq_words_dict={}\n",
    "    counter=1\n",
    "    for paragraph in paragraph_list:\n",
    "        p_number = \"Paragraph \"+str(counter)\n",
    "        most_freq_words_dict[p_number]=most_frequent_words(paragraph)\n",
    "        counter+=1\n",
    "    return most_freq_words_dict\n",
    "        \n",
    "    "
   ]
  },
  {
   "cell_type": "code",
   "execution_count": 8,
   "metadata": {},
   "outputs": [
    {
     "name": "stdout",
     "output_type": "stream",
     "text": [
      "{'Paragraph 1': {'the': 2, 'as': 2, 'moscow’s': 1}, 'Paragraph 2': {'the': 3, 'and': 2, 'while': 1}, 'Paragraph 3': {'russian': 2, 'the': 2, 'orlov,': 1}, 'Paragraph 4': {'the': 3, 'to': 2, 'is': 2}, 'Paragraph 5': {'the': 3, 'of': 2, 'confronting': 1}, 'Paragraph 6': {'graphic': 2, 'the': 2, 'did': 1}, 'Paragraph 7': {'added,': 1, 'the': 1, 'according': 1}, 'Paragraph 8': {'specifically': 1, 'mention': 1, 'did': 1}, 'Paragraph 9': {'to': 3, 'by': 2, 'is': 2}, 'Paragraph 10': {'to': 2, 'more': 1, 'claims': 1}, 'Paragraph 11': {'the': 4, 'to': 2, 'and': 2}, 'Paragraph 12': {'[washington': 1, 'weighs': 1, 'next': 1}, 'Paragraph 13': {'group,': 2, 'again': 1, 'province.': 1}, 'Paragraph 14': {'scene': 1, 'syria': 1, 'on': 1}, 'Paragraph 15': {'actions,': 1, 'view': 1, 'multilayered': 1}, 'Paragraph 16': {'the': 3, 'northwestern': 1, 'to': 1}, 'Paragraph 17': {'the': 6, 'a': 4, 'as': 2}, 'Paragraph 18': {'the': 5, 'of': 4, 'in': 2}, 'Paragraph 19': {'wide,”': 1, 'told': 1, 'he': 1}, 'Paragraph 20': {'the': 8, 'of': 5, 'to': 2}, 'Paragraph 21': {'the': 3, 'to': 2, 'of': 2}, 'Paragraph 22': {'intent]': 1, 'russia’s': 1, 'concerns’': 1}, 'Paragraph 23': {'the': 2, 'and': 2, '“armed': 1}, 'Paragraph 24': {'armed': 1, 'mccain,': 1, 'the': 1}, 'Paragraph 25': {'the': 3, 'to': 2, 'be': 2}, 'Paragraph 26': {'reply': 1, 'moscow,': 1, 'in': 1}, 'Paragraph 27': {'of': 3, 'u.s.': 1, 'and': 1}, 'Paragraph 28': {'in': 2, 'accusations': 1, 'attacks.”': 1}, 'Paragraph 29': {'and': 2, 'military': 2, 'states.': 1}, 'Paragraph 30': {'creation': 1, 'a': 1, 'regularly': 1}, 'Paragraph 31': {'a': 3, 'defense': 1, 'sites': 1}, 'Paragraph 32': {'in': 2, 'could': 1, '[russia’s': 1}, 'Paragraph 33': {'the': 6, 'to': 3, 'and': 3}, 'Paragraph 34': {'that': 2, 'the': 2, 'defense': 1}, 'Paragraph 35': {'is': 2, 'what': 1, 'wednesday.': 1}, 'Paragraph 36': {'the': 2, 'washington’s': 1, 'syria': 1}, 'Paragraph 37': {'russia': 1, 'airstrikes': 1, 'minister,': 1}, 'Paragraph 38': {'of': 2, 'the': 2, 'washington’s': 1}, 'Paragraph 39': {'the': 5, 'of': 2, 'outside': 1}, 'Paragraph 40': {'in': 2, 'foreign': 1, 'a': 1}, 'Paragraph 41': {'in': 3, 'from': 2, 'and': 2}, 'Paragraph 42': {None: 0}}\n"
     ]
    }
   ],
   "source": [
    "print(most_freq_words_by_paragraph(washington_post))"
   ]
  }
 ],
 "metadata": {
  "anaconda-cloud": {},
  "kernelspec": {
   "display_name": "Python 3",
   "language": "python",
   "name": "python3"
  },
  "language_info": {
   "codemirror_mode": {
    "name": "ipython",
    "version": 3
   },
   "file_extension": ".py",
   "mimetype": "text/x-python",
   "name": "python",
   "nbconvert_exporter": "python",
   "pygments_lexer": "ipython3",
   "version": "3.7.3"
  }
 },
 "nbformat": 4,
 "nbformat_minor": 1
}
